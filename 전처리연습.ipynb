{
  "nbformat": 4,
  "nbformat_minor": 0,
  "metadata": {
    "colab": {
      "name": "전처리연습.ipynb",
      "private_outputs": true,
      "provenance": [],
      "authorship_tag": "ABX9TyMluFLjQ0gXHyMN0iy1ej1h",
      "include_colab_link": true
    },
    "kernelspec": {
      "name": "python3",
      "display_name": "Python 3"
    },
    "language_info": {
      "name": "python"
    }
  },
  "cells": [
    {
      "cell_type": "markdown",
      "metadata": {
        "id": "view-in-github",
        "colab_type": "text"
      },
      "source": [
        "<a href=\"https://colab.research.google.com/github/s-ryuri/BigData/blob/main/%EC%A0%84%EC%B2%98%EB%A6%AC%EC%97%B0%EC%8A%B5.ipynb\" target=\"_parent\"><img src=\"https://colab.research.google.com/assets/colab-badge.svg\" alt=\"Open In Colab\"/></a>"
      ]
    },
    {
      "cell_type": "code",
      "metadata": {
        "id": "iHDYNVQ96EaZ"
      },
      "source": [
        "from google.colab import drive\n",
        "drive.mount('/content/drive')\n",
        "\n",
        "%cd drive/MyDrive/산업공학과공모전"
      ],
      "execution_count": null,
      "outputs": []
    },
    {
      "cell_type": "code",
      "metadata": {
        "id": "vUawrJWr0AL9"
      },
      "source": [
        "import pandas as pd\n",
        "import json\n",
        "\n",
        "df = pd.read_json(\"SourceData_22.json\")\n",
        "data3 = pd.DataFrame(df,columns = df.columns)"
      ],
      "execution_count": null,
      "outputs": []
    },
    {
      "cell_type": "code",
      "metadata": {
        "id": "yngmlzfRlLcT"
      },
      "source": [
        "collist = []\n",
        "def dataapply(col):\n",
        "    collist.append(list(col.values()))\n",
        "    return list(col.values())\n",
        "\n",
        "a = data3['data'].apply(dataapply)\n",
        "column_name = ['ITEM_NAME','ITEM_VALUE','TIMESTAMP']\n",
        "df = pd.DataFrame.from_records(collist,columns = column_name)\n",
        "\n",
        "data3 = pd.concat([data3,df],axis = 1)\n",
        "data3.drop('data',axis = 1,inplace = True)"
      ],
      "execution_count": null,
      "outputs": []
    },
    {
      "cell_type": "code",
      "metadata": {
        "id": "vu3hFi6Esjla"
      },
      "source": [
        "data3"
      ],
      "execution_count": null,
      "outputs": []
    },
    {
      "cell_type": "code",
      "metadata": {
        "id": "U55k4AYqp7Vg"
      },
      "source": [
        "labeldata = pd.read_json(\"LabelledData_52_역률평균.json\")\n",
        "data4 = pd.DataFrame(labeldata,columns = labeldata.columns)"
      ],
      "execution_count": null,
      "outputs": []
    },
    {
      "cell_type": "code",
      "metadata": {
        "id": "UWjVcZOPqzvD"
      },
      "source": [
        "labelcollist = []\n",
        "def dataapply(col):\n",
        "    labelcollist.append(list(col.values()))\n",
        "    return list(col.values())\n",
        "\n",
        "temp = data4['data'].apply(dataapply)\n",
        "column_name = ['ITEM_NAME','ITEM_VALUE','LABEL_NAME','TIMESTAMP']\n",
        "df = pd.DataFrame.from_records(labelcollist,columns = column_name)\n",
        "\n",
        "data4 = pd.concat([data4,df],axis = 1)\n",
        "data4.drop('data',axis = 1,inplace = True)\n",
        "\n",
        "data4.rename(columns = {'LABEL_NAME' : 'TIMESTAMP','TIMESTAMP' : 'LABEL_NAME'},inplace = True)\n",
        "data4"
      ],
      "execution_count": null,
      "outputs": []
    },
    {
      "cell_type": "code",
      "metadata": {
        "id": "GNNNqRfjroc0"
      },
      "source": [
        "|"
      ],
      "execution_count": null,
      "outputs": []
    }
  ]
}